{
  "nbformat": 4,
  "nbformat_minor": 0,
  "metadata": {
    "colab": {
      "name": "implementation-Lasso-regression-L1-and-Ridge-regression-L2.ipynb",
      "provenance": [],
      "collapsed_sections": []
    },
    "kernelspec": {
      "name": "python3",
      "display_name": "Python 3"
    },
    "language_info": {
      "name": "python"
    }
  },
  "cells": [
    {
      "cell_type": "markdown",
      "metadata": {
        "id": "fRCoGCHnwHH9"
      },
      "source": [
        "Implementation of these two regularized linear regressions Ridge and Lasso Regression "
      ]
    },
    {
      "cell_type": "markdown",
      "metadata": {
        "id": "CTroo3Buxbpz"
      },
      "source": [
        "#Here i am using Boston Housing Data Set"
      ]
    },
    {
      "cell_type": "code",
      "metadata": {
        "id": "z9kXl0JSwnsy"
      },
      "source": [
        "import numpy as np\n",
        "import pandas as pd \n",
        "import matplotlib.pyplot as plt  \n",
        "from sklearn.datasets import load_boston\n",
        "from sklearn.model_selection import train_test_split\n",
        "from sklearn.preprocessing import StandardScaler\n",
        "from sklearn.linear_model import Ridge , RidgeCV\n",
        "from sklearn.linear_model import Lasso , LassoCV"
      ],
      "execution_count": null,
      "outputs": []
    },
    {
      "cell_type": "code",
      "metadata": {
        "id": "2WIoeb9mxW5R"
      },
      "source": [
        "boston=load_boston()"
      ],
      "execution_count": null,
      "outputs": []
    },
    {
      "cell_type": "code",
      "metadata": {
        "colab": {
          "base_uri": "https://localhost:8080/"
        },
        "id": "8dPyNu9Ez9zl",
        "outputId": "3789667c-389f-413b-a8f6-877430d5c166"
      },
      "source": [
        "boston.data.shape"
      ],
      "execution_count": null,
      "outputs": [
        {
          "output_type": "execute_result",
          "data": {
            "text/plain": [
              "(506, 13)"
            ]
          },
          "metadata": {},
          "execution_count": 3
        }
      ]
    },
    {
      "cell_type": "markdown",
      "metadata": {
        "id": "QWIR6GX_0KhX"
      },
      "source": [
        "Here this datasat is having 13 columns but i am selecting only 7 columns  "
      ]
    },
    {
      "cell_type": "code",
      "metadata": {
        "id": "UfBZmWKT0AXf"
      },
      "source": [
        "no_of_features=7\n",
        "X=boston.data[:,:no_of_features]\n",
        "y=boston.target"
      ],
      "execution_count": null,
      "outputs": []
    },
    {
      "cell_type": "code",
      "metadata": {
        "id": "1IezrRe81HFj"
      },
      "source": [
        "#here i am storing first 7 features names in the varible feature  \n",
        "features=boston.feature_names[:no_of_features]"
      ],
      "execution_count": null,
      "outputs": []
    },
    {
      "cell_type": "code",
      "metadata": {
        "colab": {
          "base_uri": "https://localhost:8080/",
          "height": 204
        },
        "id": "hfT3-nKN1LOR",
        "outputId": "daeb0345-f46d-4dad-a464-35507062f67e"
      },
      "source": [
        "pd.DataFrame(X,columns=features).head()"
      ],
      "execution_count": null,
      "outputs": [
        {
          "output_type": "execute_result",
          "data": {
            "text/html": [
              "<div>\n",
              "<style scoped>\n",
              "    .dataframe tbody tr th:only-of-type {\n",
              "        vertical-align: middle;\n",
              "    }\n",
              "\n",
              "    .dataframe tbody tr th {\n",
              "        vertical-align: top;\n",
              "    }\n",
              "\n",
              "    .dataframe thead th {\n",
              "        text-align: right;\n",
              "    }\n",
              "</style>\n",
              "<table border=\"1\" class=\"dataframe\">\n",
              "  <thead>\n",
              "    <tr style=\"text-align: right;\">\n",
              "      <th></th>\n",
              "      <th>CRIM</th>\n",
              "      <th>ZN</th>\n",
              "      <th>INDUS</th>\n",
              "      <th>CHAS</th>\n",
              "      <th>NOX</th>\n",
              "      <th>RM</th>\n",
              "      <th>AGE</th>\n",
              "    </tr>\n",
              "  </thead>\n",
              "  <tbody>\n",
              "    <tr>\n",
              "      <th>0</th>\n",
              "      <td>0.00632</td>\n",
              "      <td>18.0</td>\n",
              "      <td>2.31</td>\n",
              "      <td>0.0</td>\n",
              "      <td>0.538</td>\n",
              "      <td>6.575</td>\n",
              "      <td>65.2</td>\n",
              "    </tr>\n",
              "    <tr>\n",
              "      <th>1</th>\n",
              "      <td>0.02731</td>\n",
              "      <td>0.0</td>\n",
              "      <td>7.07</td>\n",
              "      <td>0.0</td>\n",
              "      <td>0.469</td>\n",
              "      <td>6.421</td>\n",
              "      <td>78.9</td>\n",
              "    </tr>\n",
              "    <tr>\n",
              "      <th>2</th>\n",
              "      <td>0.02729</td>\n",
              "      <td>0.0</td>\n",
              "      <td>7.07</td>\n",
              "      <td>0.0</td>\n",
              "      <td>0.469</td>\n",
              "      <td>7.185</td>\n",
              "      <td>61.1</td>\n",
              "    </tr>\n",
              "    <tr>\n",
              "      <th>3</th>\n",
              "      <td>0.03237</td>\n",
              "      <td>0.0</td>\n",
              "      <td>2.18</td>\n",
              "      <td>0.0</td>\n",
              "      <td>0.458</td>\n",
              "      <td>6.998</td>\n",
              "      <td>45.8</td>\n",
              "    </tr>\n",
              "    <tr>\n",
              "      <th>4</th>\n",
              "      <td>0.06905</td>\n",
              "      <td>0.0</td>\n",
              "      <td>2.18</td>\n",
              "      <td>0.0</td>\n",
              "      <td>0.458</td>\n",
              "      <td>7.147</td>\n",
              "      <td>54.2</td>\n",
              "    </tr>\n",
              "  </tbody>\n",
              "</table>\n",
              "</div>"
            ],
            "text/plain": [
              "      CRIM    ZN  INDUS  CHAS    NOX     RM   AGE\n",
              "0  0.00632  18.0   2.31   0.0  0.538  6.575  65.2\n",
              "1  0.02731   0.0   7.07   0.0  0.469  6.421  78.9\n",
              "2  0.02729   0.0   7.07   0.0  0.469  7.185  61.1\n",
              "3  0.03237   0.0   2.18   0.0  0.458  6.998  45.8\n",
              "4  0.06905   0.0   2.18   0.0  0.458  7.147  54.2"
            ]
          },
          "metadata": {},
          "execution_count": 6
        }
      ]
    },
    {
      "cell_type": "code",
      "metadata": {
        "colab": {
          "base_uri": "https://localhost:8080/"
        },
        "id": "OD7KrMxB1x1I",
        "outputId": "7974d2ad-cd5f-49ba-81ef-a474267448ad"
      },
      "source": [
        "y[0:5]"
      ],
      "execution_count": null,
      "outputs": [
        {
          "output_type": "execute_result",
          "data": {
            "text/plain": [
              "array([24. , 21.6, 34.7, 33.4, 36.2])"
            ]
          },
          "metadata": {},
          "execution_count": 7
        }
      ]
    },
    {
      "cell_type": "markdown",
      "metadata": {
        "id": "IRL4UK8f4zJR"
      },
      "source": [
        "There are 14 attributes in each case of the dataset.But i am taking only first 7 They are:\n",
        "* CRIM - per capita crime rate by town\n",
        "* ZN - proportion of residential land zoned for lots over 25,000 sq.ft.\n",
        "* INDUS - proportion of non-retail business acres per town.\n",
        "* CHAS - Charles River dummy variable (1 if tract bounds river; 0 otherwise)\n",
        "* NOX - nitric oxides concentration (parts per 10 million)\n",
        "* RM - average number of rooms per dwelling\n",
        "* AGE - proportion of owner-occupied units built prior to 1940"
      ]
    },
    {
      "cell_type": "markdown",
      "metadata": {
        "id": "azordBwJ5NZL"
      },
      "source": [
        "#dependent varibale is price , in which the median value of a home is to be predicted"
      ]
    },
    {
      "cell_type": "code",
      "metadata": {
        "id": "09-DLCg84yk2"
      },
      "source": [
        "X_train,X_test,y_train,y_test=train_test_split(X,y,random_state=1)\n",
        "#i am scaling all the features \n",
        "std=StandardScaler()\n",
        "X_train_std=std.fit_transform(X_train)\n",
        "X_test_std=std.transform(X_test)\n"
      ],
      "execution_count": null,
      "outputs": []
    },
    {
      "cell_type": "code",
      "metadata": {
        "colab": {
          "base_uri": "https://localhost:8080/"
        },
        "id": "crK8nV9_5-Jn",
        "outputId": "b5a64a64-b9dc-462b-924c-b32ba2600a52"
      },
      "source": [
        "X_train_std[0:5]"
      ],
      "execution_count": null,
      "outputs": [
        {
          "output_type": "execute_result",
          "data": {
            "text/plain": [
              "array([[-0.40155125, -0.4910617 ,  0.10339611, -0.2984635 ,  0.16085075,\n",
              "        -0.19770443,  0.28147241],\n",
              "       [-0.39152612, -0.4910617 , -1.04424035, -0.2984635 , -0.37454855,\n",
              "        -0.99594758,  0.69933163],\n",
              "       [-0.4019934 ,  0.57450789, -0.92627264, -0.2984635 , -1.0884143 ,\n",
              "         0.68648097, -1.24831728],\n",
              "       [-0.38626952, -0.4910617 , -0.6277124 , -0.2984635 , -0.90144946,\n",
              "        -0.68422489, -1.25539964],\n",
              "       [-0.36345106, -0.4910617 , -0.19225136, -0.2984635 , -0.0856029 ,\n",
              "         0.18393737, -0.05493968]])"
            ]
          },
          "metadata": {},
          "execution_count": 9
        }
      ]
    },
    {
      "cell_type": "code",
      "metadata": {
        "colab": {
          "base_uri": "https://localhost:8080/"
        },
        "id": "x9VMsj6Q599I",
        "outputId": "aa520749-5197-44e9-d892-bfd3503e1b07"
      },
      "source": [
        "alphas=10**np.arange(1,5)\n",
        "alphas\n"
      ],
      "execution_count": null,
      "outputs": [
        {
          "output_type": "execute_result",
          "data": {
            "text/plain": [
              "array([   10,   100,  1000, 10000])"
            ]
          },
          "metadata": {},
          "execution_count": 10
        }
      ]
    },
    {
      "cell_type": "code",
      "metadata": {
        "id": "0UYB8Gwg-bqB"
      },
      "source": [
        "#loop through different penalty score (alpha) and obtain the estimated cofficient  (weights)"
      ],
      "execution_count": null,
      "outputs": []
    },
    {
      "cell_type": "markdown",
      "metadata": {
        "id": "t6hkJ81l5L6k"
      },
      "source": [
        ""
      ]
    },
    {
      "cell_type": "code",
      "metadata": {
        "id": "7SIVkhMI10Da"
      },
      "source": [
        "ridge_weight=[]\n",
        "for alpha in alphas:\n",
        "  ridge=Ridge(alpha=alpha,fit_intercept=True)\n",
        "  ridge.fit(X_train_std,y_train)\n",
        "  ridge_weight.append(ridge.coef_)"
      ],
      "execution_count": null,
      "outputs": []
    },
    {
      "cell_type": "code",
      "metadata": {
        "colab": {
          "base_uri": "https://localhost:8080/"
        },
        "id": "ItKBWjRw_UN7",
        "outputId": "abdf97af-ea50-425b-e490-05e1227df1ec"
      },
      "source": [
        "ridge_weight"
      ],
      "execution_count": null,
      "outputs": [
        {
          "output_type": "execute_result",
          "data": {
            "text/plain": [
              "[array([-1.49246448,  0.37088936, -0.70836731,  1.08568161, -0.80970633,\n",
              "         4.4075122 , -0.80450999]),\n",
              " array([-1.30486468,  0.5170331 , -0.85951603,  0.96594376, -0.81006847,\n",
              "         3.54696735, -0.74796938]),\n",
              " array([-0.6486645 ,  0.4993468 , -0.67576213,  0.39800779, -0.61503278,\n",
              "         1.33852138, -0.56022566]),\n",
              " array([-0.11842591,  0.11262874, -0.1443168 ,  0.05431575, -0.13553009,\n",
              "         0.20563081, -0.12574102])]"
            ]
          },
          "metadata": {},
          "execution_count": 13
        }
      ]
    },
    {
      "cell_type": "code",
      "metadata": {
        "id": "9v8Kxe89_rCH"
      },
      "source": [
        "def weight_versus_alpha_plot(weight, alphas, features):\n",
        "    \"\"\"\n",
        "    Pass in the estimated weight, the alpha value and the names\n",
        "    for the features and plot the model's estimated coefficient weight \n",
        "    for different alpha values\n",
        "    \"\"\"\n",
        "    fig = plt.figure(figsize = (8, 6))\n",
        "    \n",
        "    # ensure that the weight is an array\n",
        "    weight = np.array(weight)\n",
        "    for col in range(weight.shape[1]):\n",
        "      plt.plot(alphas, weight[:, col], label = features[col])\n",
        "\n",
        "    plt.axhline(0, color = 'black', linestyle = '--', linewidth = 3)\n",
        "    \n",
        "    # manually specify the coordinate of the legend\n",
        "    plt.legend(bbox_to_anchor = (1.3, 0.9))\n",
        "    plt.title('Coefficient Weight as Alpha Grows')\n",
        "    plt.ylabel('Coefficient weight')\n",
        "    plt.xlabel('alpha')\n",
        "    return fig\n"
      ],
      "execution_count": null,
      "outputs": []
    },
    {
      "cell_type": "code",
      "metadata": {
        "colab": {
          "base_uri": "https://localhost:8080/",
          "height": 411
        },
        "id": "AF6J0z6pPnRI",
        "outputId": "7e01d04d-4098-435b-d8f3-e1842e61f538"
      },
      "source": [
        "# change default figure and font size\n",
        "plt.rcParams['figure.figsize'] = 8, 6 \n",
        "plt.rcParams['font.size'] = 12\n",
        "ridge_fig = weight_versus_alpha_plot(ridge_weight, alphas, features)"
      ],
      "execution_count": null,
      "outputs": [
        {
          "output_type": "display_data",
          "data": {
            "image/png": "[encoded data removed]",
            "text/plain": [
              "<Figure size 576x432 with 1 Axes>"
            ]
          },
          "metadata": {
            "needs_background": "light"
          }
        }
      ]
    },
    {
      "cell_type": "code",
      "metadata": {
        "colab": {
          "base_uri": "https://localhost:8080/",
          "height": 428
        },
        "id": "YRXVm51fR80E",
        "outputId": "5f4ff022-541b-4e30-a2cc-7d5e3bf7d472"
      },
      "source": [
        "# does the same thing above except for lasso\n",
        "alphas = [0.01, 0.1, 1, 5, 8]\n",
        "print('different alpha values:', alphas)\n",
        "\n",
        "lasso_weight = []\n",
        "for alpha in alphas:    \n",
        "    lasso = Lasso(alpha = alpha, fit_intercept = True)\n",
        "    lasso.fit(X_train_std, y_train)\n",
        "    lasso_weight.append(lasso.coef_)\n",
        "\n",
        "lasso_fig = weight_versus_alpha_plot(lasso_weight, alphas, features)"
      ],
      "execution_count": null,
      "outputs": [
        {
          "output_type": "stream",
          "name": "stdout",
          "text": [
            "different alpha values: [0.01, 0.1, 1, 5, 8]\n"
          ]
        },
        {
          "output_type": "display_data",
          "data": {
            "image/png": "[encoded data removed]",
            "text/plain": [
              "<Figure size 576x432 with 1 Axes>"
            ]
          },
          "metadata": {
            "needs_background": "light"
          }
        }
      ]
    },
    {
      "cell_type": "markdown",
      "metadata": {
        "id": "MJM_2xh1a4k4"
      },
      "source": [
        "As we can see that lasso is shrinking the coff. towards to zero almost zero or equal to zero  "
      ]
    },
    {
      "cell_type": "code",
      "metadata": {
        "id": "aU4uiuY0a3ZI"
      },
      "source": [
        ""
      ],
      "execution_count": null,
      "outputs": []
    },
    {
      "cell_type": "code",
      "metadata": {
        "id": "Y2jeBTOVSAOZ"
      },
      "source": [
        ""
      ],
      "execution_count": null,
      "outputs": []
    }
  ]
}